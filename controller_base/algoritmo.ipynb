{
 "cells": [
  {
   "cell_type": "markdown",
   "metadata": {},
   "source": [
    "<img src=\"img/diagrama_algoritmo.png\", width=300, height=300>"
   ]
  },
  {
   "cell_type": "markdown",
   "metadata": {},
   "source": [
    "SUPOSICIONES:\n",
    "- Las cámaras de los drones tienen las mismas características y están posicionadas con el mismo ángulo de inclinación.\n",
    "- Los drones vuelan a la misma altura y velocidad.\n",
    "\n",
    "\n",
    "VERSION 0:\n",
    "- A mayores, para una primera versión no se va a considerar la orientación del dron para tomar las imagenes porque se \n",
    "    supone que van a estar orientadas hacia el suelo."
   ]
  },
  {
   "cell_type": "code",
   "execution_count": null,
   "metadata": {
    "collapsed": true
   },
   "outputs": [],
   "source": [
    "import numpy as np\n",
    "from scipy.spatial import distance\n",
    "import networkx as nx\n",
    "import matplotlib.pyplot as plt\n",
    "from geopy import distance"
   ]
  },
  {
   "cell_type": "code",
   "execution_count": null,
   "metadata": {
    "collapsed": true
   },
   "outputs": [],
   "source": [
    "altura_vuelo_uav = 20\n",
    "ancho_sensor = 1\n",
    "distancia_focal = 0.5\n",
    "angulo_inclinacion = 90\n",
    "fraccion_solape = 0.4\n",
    "\n",
    "#Valores recibidos de NodeJS.\n",
    "northWest = [42.17226800508796, -8.679393394103954] #(latitud, longitud)\n",
    "northEast = [42.17226800508796, -8.678347434154489] #(latitud, longitud)\n",
    "southWest = [42.17112037162631, -8.679393394103954] #(latitud, longitud)\n",
    "southEast = [42.17112037162631, -8.678347434154489] #(latitud, longitud)"
   ]
  },
  {
   "cell_type": "markdown",
   "metadata": {},
   "source": [
    "Calcula la distancia en metros entre dos coordenadas geográficas.\n",
    "\n",
    "    Entradas:\n",
    "        geoCoordA: (lat, long).\n",
    "        geoCoordB: (lat, long).\n",
    "\n",
    "    Salida:\n",
    "        distance: (float), distancia en metros entre coordeadas geográficas.\n"
   ]
  },
  {
   "cell_type": "code",
   "execution_count": null,
   "metadata": {},
   "outputs": [],
   "source": [
    "def getMeters(geoCoordA, geoCoordB):\n",
    "    return distance.vincenty(geoCoordA,geoCoordB).meters"
   ]
  },
  {
   "cell_type": "markdown",
   "metadata": {},
   "source": [
    "Calcula el número de metros que recoge la cámara del UAV.\n",
    "\n",
    "    Entradas\n",
    "        altura_vuelo_uav : (float), distancia en metros del dron al suelo del área que se quiere cubrir.\n",
    "        ancho_sensor : (float), ancho del sensor de imagen en milimetros.\n",
    "        distancia_focal : (float), distancia focal de la cámara en milimetros.\n",
    "        angulo_inclinacion : (float), ángulo de inclinación de la cámara respecto al UAV en posición horizontal.\n",
    "\n",
    "    Salida: \n",
    "        footprint : (float), número de metros capturados por la cámara del UAV."
   ]
  },
  {
   "cell_type": "code",
   "execution_count": null,
   "metadata": {
    "collapsed": true
   },
   "outputs": [],
   "source": [
    "def calcularFootprint (altura_vuelo_uav, ancho_sensor, distancia_focal, angulo_inclinacion):\n",
    "    # TODO: calcular para angulo de inclinación distinto de 90º\n",
    "    return altura_vuelo_uav * (ancho_sensor / distancia_focal)"
   ]
  },
  {
   "cell_type": "markdown",
   "metadata": {},
   "source": [
    "Calcula el número de filas necesarias para cubrir todo el área rectangular en sentido perpendicular al lado más corto respecto a la porción de área cubierta por la cámara y una fracción de solape.\n",
    "\n",
    "    Entradas\n",
    "        lado_area_corto : (float), longitud del lado más corto del área. Tiene que estar en las mismas unidades que \n",
    "        el footprint.                                \n",
    "        footprint : (float), número de metros capturados por la cámara del UAV.\n",
    "        fraccion_solape : (float), fracción de solape entre las imágenes tomadas por los UAVs.\n",
    "\n",
    "    Salidas\n",
    "        num_filas : (int), número de filas necesarias.\n",
    "        lado_area_corto/num_filas : (float), distancia entre las filas."
   ]
  },
  {
   "cell_type": "code",
   "execution_count": 3,
   "metadata": {
    "collapsed": true
   },
   "outputs": [],
   "source": [
    "def calcularNumeroFilasDistancia (lado_area_corto, footprint, fraccion_solape):\n",
    "    num_filas = np.ceil(lado_area_corto / (footprint * (1 - fraccion_solape)))\n",
    "    return int(num_filas), (lado_area_corto/num_filas)"
   ]
  },
  {
   "cell_type": "markdown",
   "metadata": {},
   "source": [
    "Devuelve las divisiones en ambas cordenadas"
   ]
  },
  {
   "cell_type": "code",
   "execution_count": null,
   "metadata": {
    "collapsed": true
   },
   "outputs": [],
   "source": [
    "def calcularDivisionesArea (lado_area_corto, lado_area_largo, numero_filas, distancia_filas, footprint):\n",
    "    numero_divisiones_lado_largo = int(np.ceil(lado_area_largo / footprint))\n",
    "\n",
    "    divisiones_lado_corto = [i * distancia_filas - (distancia_filas / 2) for i in range (1, numero_filas + 1)]\n",
    "    divisiones_lado_largo = [i * footprint - (footprint / 2) for i in range (1, numero_divisiones_lado_largo + 1)]\n",
    "\n",
    "    return divisiones_lado_largo, divisiones_lado_corto"
   ]
  },
  {
   "cell_type": "markdown",
   "metadata": {},
   "source": [
    "Devuelve una lista con las coordenadas de cada nodo del grafo."
   ]
  },
  {
   "cell_type": "code",
   "execution_count": null,
   "metadata": {
    "collapsed": true
   },
   "outputs": [],
   "source": [
    "def calcularNodosGrafo (divisiones_x, divisiones_y):\n",
    "    #return [(pos_x, pos_y) for pos_x in divisiones_x for pos_y in divisiones_y]\n",
    "    nodos = []\n",
    "    id = 1\n",
    "    for pos_x in divisiones_x:\n",
    "        fila_nodos = []\n",
    "        for pos_y in divisiones_y:\n",
    "            fila_nodos.append([id, (pos_x, pos_y)])\n",
    "            id += 1\n",
    "\n",
    "            # fila_nodos.append(np.array([pos_x, pos_y]))\n",
    "            # fila_nodos.append((pos_x, pos_y))\n",
    "        nodos.append(fila_nodos)\n",
    "    return nodos"
   ]
  },
  {
   "cell_type": "code",
   "execution_count": null,
   "metadata": {
    "collapsed": true
   },
   "outputs": [],
   "source": [
    "def calcularGrafo (nodos):\n",
    "    # Construimos el grafo con los nodos:\n",
    "    grafo = nx.Graph()\n",
    "    n_filas, n_columnas = len(nodos), len(nodos[0])\n",
    "    for n_fila in range(n_filas):\n",
    "        for n_columna in range (n_columnas):\n",
    "            grafo.add_node(nodos[n_fila][n_columna][0], posicion = nodos[n_fila][n_columna][1], fila = n_fila, columna = n_columna)\n",
    "            #grafo.add_node(nodos[n_fila][n_columna][0])\n",
    "\n",
    "    # Establecemos los edges, lineas de conexion, entre los nodos:\n",
    "    for n_fila in range(n_filas):\n",
    "        for n_columna in range (n_columnas):\n",
    "            for i, j in [[n_fila + 1, n_columna], [n_fila - 1, n_columna], [n_fila, n_columna + 1], [n_fila, n_columna - 1]]:\n",
    "                if i < 0 or j < 0 or i >= n_filas or j >= n_columnas: # No existe el nodo\n",
    "                    continue\n",
    "                grafo.add_edge(nodos[n_fila][n_columna][0], nodos[i][j][0]) # nodos[n_fila][n_columna][0] ----(vecino)---- nodos[i][j][0]\n",
    "    return grafo"
   ]
  },
  {
   "cell_type": "markdown",
   "metadata": {},
   "source": [
    "Convierte coordenadas cartesianas a coordenadas geométricas\n",
    "\n",
    "        Entradas\n",
    "            x_meters: (float), indica cuántos metros en el eje x nos desplazamos con respecto al origen de \n",
    "            coordenadas.\n",
    "            y_meters: (float), indica cuántos metros en el eje y nos desplazamos con respecto al origen de \n",
    "            coordenadas.\n",
    "            origenCoordGeo: (lat,long), indica cual es el punto de origen de coordenadas, el cuál sirve para \n",
    "            relaccionar la posición real de la zona a cubrir con la distancia en metros teórica hasta el \n",
    "            siguiente destino.\n",
    "        \n",
    "        Salidas\n",
    "            latitud: (float), latitud real del punto desplazado los metros desados en el eje x\n",
    "            longitud: (float), longitud real del punto desplazado los metros desados en el eje y"
   ]
  },
  {
   "cell_type": "code",
   "execution_count": null,
   "metadata": {},
   "outputs": [],
   "source": [
    "def cartToGeoCoord(x_meters, y_meters, origenCoordGeo):\n",
    "    geoCoord = distance.vincenty(meters=x_meters).destination(origenCoordGeo, 90)\n",
    "    geoCoord = distance.vincenty(meters=y_meters).destination(geoCoord, 0)\n",
    "    \n",
    "    return geoCoord.latitude, geoCoord.longitude\n",
    "    "
   ]
  },
  {
   "cell_type": "code",
   "execution_count": null,
   "metadata": {},
   "outputs": [],
   "source": [
    "\n",
    "if __name__ == '__main__':\n",
    "    # def calcularGrafo (x, y, altura_vuelo_uav, caracteristicas_sensor):\n",
    "    x = getMeters(southWest,southEast)\n",
    "    y = getMeters(southWest,northWest)\n",
    "    lado_area_corto = x * (x < y) + y * (y < x) + x * (x == y)\n",
    "    lado_area_largo = x * (x > y) + y * (y > x) + x * (x == y)\n",
    "\n",
    "    footprint = calcularFootprint (altura_vuelo_uav, ancho_sensor, distancia_focal, angulo_inclinacion)\n",
    "    numero_filas, distancia_filas = calcularNumeroFilasDistancia (lado_area_corto, footprint, fraccion_solape)\n",
    "\n",
    "    if lado_area_largo == x:\n",
    "        divisiones_x, divisiones_y = calcularDivisionesArea (lado_area_corto, lado_area_largo, numero_filas, distancia_filas, footprint)\n",
    "    else:\n",
    "        divisiones_y, divisiones_x = calcularDivisionesArea (lado_area_corto, lado_area_largo, numero_filas, distancia_filas, footprint)\n",
    "\n",
    "    nodos = calcularNodosGrafo (divisiones_x, divisiones_y)\n",
    "    grafo = calcularGrafo(nodos)\n",
    "\n",
    "    \n",
    "    #Pasamos la primera coordenada cartesiana a coordenadas geometricas\n",
    "    coordCart = nodos[0][0][1];\n",
    "    coordGeo = cartToGeoCoord(coordCart[0],0,southWest)\n",
    "    \n",
    "    print coordCart\n",
    "    print coordGeo\n",
    "    print getMeters(geoCoordA=southWest, geoCoordB=coordGeo)\n",
    "    \n",
    "    \n",
    "    \n",
    "    "
   ]
  }
 ],
 "metadata": {
  "kernelspec": {
   "display_name": "Python 2",
   "language": "python",
   "name": "python2"
  },
  "language_info": {
   "codemirror_mode": {
    "name": "ipython",
    "version": 2
   },
   "file_extension": ".py",
   "mimetype": "text/x-python",
   "name": "python",
   "nbconvert_exporter": "python",
   "pygments_lexer": "ipython2",
   "version": "2.7.14"
  }
 },
 "nbformat": 4,
 "nbformat_minor": 2
}
